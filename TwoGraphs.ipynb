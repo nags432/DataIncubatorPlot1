import pandas as pd
import matplotlib.pyplot as plt
%matplotlib inline

def maxOfNeighborhood(row):
    lastPeriod = 0
    difference = 0
    maxDifference = 0
    maxPeriod = ''
    for y in [2010,2011,2012,2013,2014,2015,2016,2017,2018,2019]:
        for m in ['01','02','03','04','05','06','07','08','09','10','11','12']:
            period = '%s-%s' % (y,m)
            try:
                if row[period] == '':
                    continue
                if lastPeriod == 0:
                    lastPeriod = row[period]
                if row[period] > lastPeriod:
                    difference = (float(row[period]) / float(lastPeriod) - 1) *100
                    if difference > maxDifference:
                        maxDifference = difference
                        maxPeriod = period
                    lastPeriod = row[period]
            except KeyError:
                break
    row['maxDifference'] = maxDifference
    row['maxPeriod'] = maxPeriod

    return row

def graph_one():

  homePrices = pd.read_csv('/Users/dreambig/Downloads/medianSalesPrice_All.csv')
  #homePrices['maxPeriod'] = ''
  #homePrices['maxDifference'] = 0

  homePrices = homePrices.apply(maxOfNeighborhood, axis=1).sort_values(by=['maxDifference'],ascending=False)
  homePrices['areaName + maxPeriod'] = homePrices['areaName']+' '+homePrices['maxPeriod']
  labels = homePrices['areaName + maxPeriod'].head(10)
  yAxis = homePrices['maxDifference'].head(10)
  fig = plt.figure()
  fig.suptitle('Largest M/M Increase', fontsize=20)
  plt.bar(labels,yAxis)
  plt.xticks(labels, labels, rotation=50)
  plt.ylabel('% Increase', fontsize=16)
  

  plt.show()

def graph_two():
    homePrices = pd.read_csv('/Users/dreambig/Downloads/medianSalesPrice_All.csv')
    #homePrices['maxPeriod'] = ''
    #homePrices['maxDifference'] = 0
    
    homePricesT = homePrices.transpose().drop(['Borough','areaType'])
    
    new_header = homePricesT.iloc[0]
    dfNew = homePricesT[1:]
    dfNew.columns = new_header
    
    xAxis = dfNew.index
    yAxis = dfNew['Brooklyn Heights']
    #homePrices['areaName + maxPeriod'] = homePrices['areaName']+' '+homePrices['maxPeriod']
    #labels = homePrices['areaName + maxPeriod'].head(10)
    #yAxis = homePrices['maxDifference'].head(10)
    fig = plt.figure(figsize=(20, 4))
    
    fig.suptitle('Brooklyn Heights Median Home Price Over Time', fontsize=20)
    plt.scatter(xAxis,yAxis)
    plt.xticks(xAxis, xAxis, rotation=90)
    plt.ylabel('Median Home Price', fontsize=16)
    plt.xlabel('Period', fontsize=16)
    
    plt.show()
    


graph_one()
graph_two()
