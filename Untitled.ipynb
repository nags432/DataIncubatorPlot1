{
 "cells": [
  {
   "cell_type": "code",
   "execution_count": 3,
   "metadata": {},
   "outputs": [
    {
     "data": {
      "image/png": "[encoded data removed]",
      "text/plain": [
       "<Figure size 432x288 with 1 Axes>"
      ]
     },
     "metadata": {
      "needs_background": "light"
     },
     "output_type": "display_data"
    }
   ],
   "source": [
    "import pandas as pd\n",
    "import matplotlib.pyplot as plt\n",
    "%matplotlib inline\n",
    "\n",
    "def maxOfNeighborhood(row):\n",
    "    lastPeriod = 0\n",
    "    difference = 0\n",
    "    maxDifference = 0\n",
    "    maxPeriod = ''\n",
    "    for y in [2010,2011,2012,2013,2014,2015,2016,2017,2018,2019]:\n",
    "        for m in ['01','02','03','04','05','06','07','08','09','10','11','12']:\n",
    "            period = '%s-%s' % (y,m)\n",
    "            try:\n",
    "                if row[period] == '':\n",
    "                    continue\n",
    "                if lastPeriod == 0:\n",
    "                    lastPeriod = row[period]\n",
    "                if row[period] > lastPeriod:\n",
    "                    difference = (float(row[period]) / float(lastPeriod) - 1) *100\n",
    "                    if difference > maxDifference:\n",
    "                        maxDifference = difference\n",
    "                        maxPeriod = period\n",
    "            except KeyError:\n",
    "                break\n",
    "    row['maxDifference'] = maxDifference\n",
    "    row['maxPeriod'] = maxPeriod\n",
    "\n",
    "    return row\n",
    "\n",
    "def graph_one():\n",
    "\n",
    "  homePrices = pd.read_csv('/Users/dreambig/Downloads/medianSalesPrice_All.csv')\n",
    "  #homePrices['maxPeriod'] = ''\n",
    "  #homePrices['maxDifference'] = 0\n",
    "\n",
    "  homePrices = homePrices.apply(maxOfNeighborhood, axis=1)\n",
    "\n",
    "  plt.bar(homePrices['areaName'],homePrices['maxDifference'])\n",
    "\n",
    "  plt.show()\n",
    "    \n",
    "\n",
    "\n",
    "graph_one()"
   ]
  },
  {
   "cell_type": "code",
   "execution_count": null,
   "metadata": {},
   "outputs": [],
   "source": []
  }
 ],
 "metadata": {
  "kernelspec": {
   "display_name": "Python 3",
   "language": "python",
   "name": "python3"
  },
  "language_info": {
   "codemirror_mode": {
    "name": "ipython",
    "version": 3
   },
   "file_extension": ".py",
   "mimetype": "text/x-python",
   "name": "python",
   "nbconvert_exporter": "python",
   "pygments_lexer": "ipython3",
   "version": "3.6.5"
  }
 },
 "nbformat": 4,
 "nbformat_minor": 2
}
