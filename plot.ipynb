import pandas as pd
import matplotlib.pyplot as plt
%matplotlib inline

def maxOfNeighborhood(row):
    lastPeriod = 0
    difference = 0
    maxDifference = 0
    maxPeriod = ''
    for y in [2010,2011,2012,2013,2014,2015,2016,2017,2018,2019]:
        for m in ['01','02','03','04','05','06','07','08','09','10','11','12']:
            period = '%s-%s' % (y,m)
            try:
                if row[period] == '':
                    continue
                if lastPeriod == 0:
                    lastPeriod = row[period]
                if row[period] > lastPeriod:
                    difference = (float(row[period]) / float(lastPeriod) - 1) *100
                    if difference > maxDifference:
                        maxDifference = difference
                        maxPeriod = period
            except KeyError:
                break
    row['maxDifference'] = maxDifference
    row['maxPeriod'] = maxPeriod

    return row

def graph_one():

  homePrices = pd.read_csv('/Users/dreambig/Downloads/medianSalesPrice_All.csv')
  #homePrices['maxPeriod'] = ''
  #homePrices['maxDifference'] = 0

  homePrices = homePrices.apply(maxOfNeighborhood, axis=1)

  plt.bar(homePrices['areaName'],homePrices['maxDifference'])

  plt.show()
    


graph_one()
